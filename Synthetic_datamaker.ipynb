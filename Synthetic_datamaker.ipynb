{
 "cells": [
  {
   "cell_type": "code",
   "execution_count": 1,
   "metadata": {
    "ExecuteTime": {
     "end_time": "2025-04-15T14:03:25.783917Z",
     "start_time": "2025-04-15T14:03:21.916289Z"
    }
   },
   "outputs": [],
   "source": [
    "import matplotlib.pyplot as plt\n",
    "import numpy as np\n",
    "import pandas as pd\n",
    "import scipy.stats as st"
   ]
  },
  {
   "cell_type": "code",
   "execution_count": 2,
   "metadata": {
    "ExecuteTime": {
     "end_time": "2025-04-15T14:03:25.792823Z",
     "start_time": "2025-04-15T14:03:25.788256Z"
    }
   },
   "outputs": [],
   "source": [
    "def create_bin_data(size, p=0.5, random_state=None):\n",
    "    return st.bernoulli(p).rvs(size, random_state=random_state)\n",
    "\n",
    "def create_cat_data(size, n_cat, p=None, random_state=None):\n",
    "    if p is None:\n",
    "        p = np.ones(n_cat) / n_cat\n",
    "    cat_list = np.arange(1, n_cat + 1)\n",
    "    return np.random.choice(cat_list, p=p, size=size)"
   ]
  },
  {
   "cell_type": "code",
   "execution_count": 3,
   "metadata": {
    "ExecuteTime": {
     "end_time": "2025-04-15T14:03:25.801769Z",
     "start_time": "2025-04-15T14:03:25.794968Z"
    }
   },
   "outputs": [],
   "source": [
    "# размер выборки\n",
    "data_size = 1_000_000\n",
    "\n",
    "random_state = 432"
   ]
  },
  {
   "cell_type": "code",
   "execution_count": 4,
   "metadata": {
    "ExecuteTime": {
     "end_time": "2025-04-15T14:03:29.029008Z",
     "start_time": "2025-04-15T14:03:25.804080Z"
    }
   },
   "outputs": [],
   "source": [
    "np.random.seed(random_state)\n",
    "df = pd.DataFrame()\n",
    "\n",
    "df['bin1'] = create_bin_data(data_size, p=0.3)\n",
    "df['bin2'] = create_bin_data(data_size, p=0.5)\n",
    "df['bin3'] = create_bin_data(data_size, p=0.8)\n",
    "df['bin4'] = create_bin_data(data_size, p=0.5)\n",
    "\n",
    "df['rank1'] = create_cat_data(data_size, n_cat=10, p=None)\n",
    "df['rank2'] = create_cat_data(data_size, n_cat=4, p=[0.1, 0.2, 0.3, 0.4])\n",
    "\n",
    "sparsed_columns = ['bin2', 'bin3', 'rank2']\n",
    "\n",
    "\n",
    "meta_features_shape = 8\n",
    "transform_matrix = np.random.random([len(sparsed_columns), meta_features_shape])\n",
    "meta_col_names = ['sparsed' + str(i + 1) for i in range(meta_features_shape)]\n",
    "df[meta_col_names] = (df[sparsed_columns].values @ transform_matrix)\n",
    "\n",
    "date_len = 20\n",
    "\n",
    "date_range = np.arange(1, date_len + 1)\n",
    "seasonal1 = np.sin(date_range * 2 * np.pi / 12).reshape(1, -1)\n",
    "seasonal2 = np.sin(date_range * 2 * np.pi / 3).reshape(1, -1)\n",
    "trend = (\n",
    "    np.random.normal(scale=df['sparsed1'], size=data_size).reshape(-1, 1)\n",
    "    * (date_range.reshape(1, -1) + df['sparsed2'].values.reshape(-1, 1) / 40)\n",
    ")\n",
    "\n",
    "noise = np.random.normal(\n",
    "    loc=df['sparsed3'].values.reshape(-1, 1),\n",
    "    scale=df['rank1'].values.reshape(-1, 1),\n",
    "    size=(data_size, date_len)\n",
    ")\n",
    "\n",
    "panel_col_names = ['panel' + str(i + 1) for i in range(date_len)]\n",
    "\n",
    "df[panel_col_names] = (\n",
    "    seasonal1 * df['sparsed4'].values.reshape(-1, 1)\n",
    "    +\n",
    "    seasonal2 * df['bin1'].values.reshape(-1, 1) * df['sparsed5'].values.reshape(-1, 1)\n",
    "    +\n",
    "    trend\n",
    "    +\n",
    "    noise\n",
    ")\n",
    "\n",
    "decay_coef = 0.8\n",
    "weighted_panel_treat = sum([\n",
    "    df['panel' + str(i + 1)] * decay_coef ** (date_len - i)\n",
    "    for i in range(date_len)\n",
    "])\n",
    "\n",
    "df['target'] = (\n",
    "    weighted_panel_treat\n",
    "    +\n",
    "    np.random.normal(\n",
    "        loc=df['sparsed6'],\n",
    "        scale=2 + df['bin2'] * 4,\n",
    "        size=data_size\n",
    "    )\n",
    "    + \n",
    "    np.random.lognormal(mean=df['sparsed7'], sigma=2, size=data_size)\n",
    "    - \n",
    "    df['bin4'] * np.random.lognormal(mean=df['sparsed8'] * 0.6, sigma=2, size=data_size)\n",
    ")\n",
    "\n",
    "df = df.drop(columns=['bin1', 'bin2', 'bin3', 'bin4', 'rank1', 'rank2'])"
   ]
  }
 ],
 "metadata": {
  "kernelspec": {
   "display_name": "py3.8_mlpy3811v23_0.1.3.0",
   "language": "python",
   "name": "mlpy3811v23"
  },
  "language_info": {
   "codemirror_mode": {
    "name": "ipython",
    "version": 3
   },
   "file_extension": ".py",
   "mimetype": "text/x-python",
   "name": "python",
   "nbconvert_exporter": "python",
   "pygments_lexer": "ipython3",
   "version": "3.8.17"
  },
  "toc": {
   "base_numbering": 1,
   "nav_menu": {},
   "number_sections": true,
   "sideBar": true,
   "skip_h1_title": false,
   "title_cell": "Table of Contents",
   "title_sidebar": "Contents",
   "toc_cell": false,
   "toc_position": {},
   "toc_section_display": true,
   "toc_window_display": false
  }
 },
 "nbformat": 4,
 "nbformat_minor": 4
}
